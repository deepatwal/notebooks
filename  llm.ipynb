{
 "cells": [
  {
   "cell_type": "markdown",
   "metadata": {},
   "source": [
    "# import"
   ]
  },
  {
   "cell_type": "code",
   "execution_count": 1,
   "metadata": {},
   "outputs": [],
   "source": [
    "import os\n",
    "import json\n",
    "import pprint\n",
    "\n",
    "from langchain_community.llms import Ollama\n",
    "from langchain_core.prompts import ChatPromptTemplate\n",
    "from langchain_core.output_parsers import StrOutputParser\n",
    "from langchain_community.document_loaders import WebBaseLoader\n",
    "from langchain_community.embeddings import OllamaEmbeddings\n",
    "from langchain_community.vectorstores import FAISS\n",
    "from langchain_text_splitters import RecursiveCharacterTextSplitter\n",
    "from langchain.chains.combine_documents import create_stuff_documents_chain\n",
    "from langchain.chains import create_retrieval_chain\n",
    "from langchain_core.documents import Document\n",
    "from langchain.chains import create_history_aware_retriever\n",
    "from langchain_core.prompts import MessagesPlaceholder\n",
    "from langchain_core.messages import HumanMessage, AIMessage"
   ]
  },
  {
   "cell_type": "markdown",
   "metadata": {},
   "source": [
    "# check ollama status"
   ]
  },
  {
   "cell_type": "code",
   "execution_count": 25,
   "metadata": {},
   "outputs": [
    {
     "name": "stdout",
     "output_type": "stream",
     "text": [
      "{\"model\":\"llama3:8b\",\"created_at\":\"2024-04-27T13:29:43.020220581Z\",\"response\":\"What a great question!\\n\\nThe short answer is: scattering of light by tiny molecules in the atmosphere.\\n\\nHere's a more detailed explanation:\\n\\nWhen sunlight enters Earth's atmosphere, it encounters tiny molecules of gases like nitrogen (N2) and oxygen (O2). These molecules are much smaller than the wavelength of visible light, so they scatter the light in all directions. This is known as Rayleigh scattering, named after the British physicist Lord Rayleigh, who first described the phenomenon in the late 19th century.\\n\\nNow, here's the important part: shorter (blue) wavelengths are scattered more than longer (red) wavelengths. This is because the smaller molecules are more effective at scattering the shorter wavelengths. Think of it like a game of pool: the smaller balls (blue light) bounce around more easily than the larger ones (red light).\\n\\nAs a result, our eyes perceive the blue light as being scattered in all directions, giving the sky its blue appearance. The color we see is actually the combined effect of the scattered blue light and the direct sunlight that reaches our eyes.\\n\\nOther factors can influence the apparent color of the sky, such as:\\n\\n1. Atmospheric conditions: Dust, pollution, and water vapor can scatter light in different ways, changing the sky's color.\\n2. Time of day: During sunrise and sunset, the sun's rays have to travel longer distances through the atmosphere, scattering more blue light and making the sky appear more red or orange.\\n3. Altitude and atmospheric pressure: At higher altitudes or with lower atmospheric pressure, the air is thinner, and the sky can appear more intense blue.\\n\\nSo, there you have it! The blue color of the sky is a result of the scattering of sunlight by tiny molecules in our atmosphere.\",\"done\":true,\"context\":[128006,882,128007,198,198,35734,374,279,13180,6437,949,128009,128006,78191,128007,198,198,3923,264,2294,3488,4999,198,791,2875,4320,374,25,72916,315,3177,555,13987,35715,304,279,16975,627,198,8586,596,264,810,11944,16540,512,198,4599,40120,29933,9420,596,16975,11,433,35006,13987,35715,315,45612,1093,47503,320,45,17,8,323,24463,320,46,17,570,4314,35715,527,1790,9333,1109,279,46406,315,9621,3177,11,779,814,45577,279,3177,304,682,18445,13,1115,374,3967,439,13558,64069,72916,11,7086,1306,279,8013,83323,10425,13558,64069,11,889,1176,7633,279,25885,304,279,3389,220,777,339,9478,627,198,7184,11,1618,596,279,3062,961,25,24210,320,12481,8,93959,527,38067,810,1109,5129,320,1171,8,93959,13,1115,374,1606,279,9333,35715,527,810,7524,520,72916,279,24210,93959,13,21834,315,433,1093,264,1847,315,7463,25,279,9333,20953,320,12481,3177,8,34782,2212,810,6847,1109,279,8294,6305,320,1171,3177,570,198,198,2170,264,1121,11,1057,6548,45493,279,6437,3177,439,1694,38067,304,682,18445,11,7231,279,13180,1202,6437,11341,13,578,1933,584,1518,374,3604,279,11093,2515,315,279,38067,6437,3177,323,279,2167,40120,430,25501,1057,6548,627,198,11663,9547,649,10383,279,10186,1933,315,279,13180,11,1778,439,512,198,16,13,87597,4787,25,33093,11,25793,11,323,3090,38752,649,45577,3177,304,2204,5627,11,10223,279,13180,596,1933,13,198,17,13,4212,315,1938,25,12220,64919,323,44084,11,279,7160,596,45220,617,311,5944,5129,27650,1555,279,16975,11,72916,810,6437,3177,323,3339,279,13180,5101,810,2579,477,19087,13,198,18,13,24610,3993,323,45475,7410,25,2468,5190,4902,21237,477,449,4827,45475,7410,11,279,3805,374,65355,11,323,279,13180,649,5101,810,19428,6437,627,198,4516,11,1070,499,617,433,0,578,6437,1933,315,279,13180,374,264,1121,315,279,72916,315,40120,555,13987,35715,304,1057,16975,13,128009],\"total_duration\":21093941890,\"load_duration\":11972693794,\"prompt_eval_count\":16,\"prompt_eval_duration\":219714000,\"eval_count\":354,\"eval_duration\":8851365000}"
     ]
    }
   ],
   "source": [
    "!curl --location 'http://127.0.0.1:11434/api/generate' \\\n",
    "--header 'Content-Type: application/json' \\\n",
    "--data '{ \\\n",
    "    \"model\": \"llama3:8b\", \\\n",
    "    \"prompt\": \"why is the sky blue ?\",  \\\n",
    "    \"stream\": false, \\\n",
    "    \"options\": { \\\n",
    "        \"temperature\": 0 \\\n",
    "    } \\\n",
    "}' \\\n",
    "# | python -m json.tool"
   ]
  },
  {
   "cell_type": "code",
   "execution_count": 26,
   "metadata": {},
   "outputs": [
    {
     "name": "stdout",
     "output_type": "stream",
     "text": [
      "{\"models\":[{\"name\":\"llama3:8b\",\"model\":\"llama3:8b\",\"modified_at\":\"2024-04-25T15:53:32.490960207+02:00\",\"size\":4661224578,\"digest\":\"a6990ed6be412c6a217614b0ec8e9cd6800a743d5dd7e1d7fbe9df09e61d5615\",\"details\":{\"parent_model\":\"\",\"format\":\"gguf\",\"family\":\"llama\",\"families\":[\"llama\"],\"parameter_size\":\"8B\",\"quantization_level\":\"Q4_0\"}}]}"
     ]
    }
   ],
   "source": [
    "!curl http://localhost:11434/api/tags"
   ]
  },
  {
   "cell_type": "markdown",
   "metadata": {},
   "source": [
    "## Ollama model: configuration"
   ]
  },
  {
   "cell_type": "code",
   "execution_count": 2,
   "metadata": {},
   "outputs": [],
   "source": [
    "llm = Ollama(model=\"llama3:8b\", temperature=0)"
   ]
  },
  {
   "cell_type": "markdown",
   "metadata": {},
   "source": [
    "## testing llm: invoke\n"
   ]
  },
  {
   "cell_type": "code",
   "execution_count": 28,
   "metadata": {},
   "outputs": [
    {
     "data": {
      "text/plain": [
       "\"Langsmith, a language model, can assist with testing in several ways:\\n\\n1. **Automated Testing**: Langsmith can be used to generate test cases and test data for automated testing frameworks like Selenium or Pytest. It can create scenarios, inputs, and expected outputs based on the requirements.\\n2. **Test Data Generation**: Langsmith can help generate test data by creating random input values, dates, times, names, addresses, and other types of data that are commonly used in testing.\\n3. **Error Message Analysis**: When a test fails, Langsmith can be used to analyze the error message and provide insights on what might have caused the failure. It can also suggest possible fixes or alternative approaches.\\n4. **Test Case Prioritization**: Langsmith can help prioritize test cases based on their complexity, risk, and importance. This ensures that critical tests are executed first, reducing the overall testing time.\\n5. **Test Data Validation**: Langsmith can validate test data by checking for consistency, completeness, and accuracy. It can also detect duplicate or invalid data, ensuring that only valid test data is used.\\n6. **Code Review**: Langsmith can assist in code review by analyzing the code's syntax, semantics, and best practices. It can identify potential issues, suggest improvements, and provide recommendations for refactoring.\\n7. **Test Automation Framework Development**: Langsmith can help develop test automation frameworks by generating boilerplate code, creating test suites, and providing guidance on framework design.\\n8. **Exploratory Testing**: Langsmith can assist in exploratory testing by suggesting new scenarios, inputs, or workflows to explore. It can also provide insights on how users might interact with the system.\\n\\nBy leveraging Langsmith's capabilities, you can streamline your testing process, reduce manual effort, and increase the overall quality of your tests.\""
      ]
     },
     "execution_count": 28,
     "metadata": {},
     "output_type": "execute_result"
    }
   ],
   "source": [
    "# llm.invoke(input=\"tell me a joke\")\n",
    "llm.invoke(\"how can langsmith help with testing ?\")\n"
   ]
  },
  {
   "cell_type": "markdown",
   "metadata": {},
   "source": [
    "## testing llm: chat prompt template"
   ]
  },
  {
   "cell_type": "code",
   "execution_count": 18,
   "metadata": {},
   "outputs": [
    {
     "name": "stdout",
     "output_type": "stream",
     "text": [
      "As a world-class technical documentation writer, I'm excited to share some insights on how Langsmith can assist with testing.\n",
      "\n",
      "Langsmith's AI-powered language processing capabilities can be leveraged in various ways to enhance the testing process. Here are some ideas:\n",
      "\n",
      "1. **Automated Testing**: Langsmith can help automate testing by generating test cases based on natural language descriptions. This can save time and reduce the likelihood of human error.\n",
      "2. **Test Data Generation**: Langsmith's AI can generate test data, such as input values or expected output results, based on predefined patterns or scenarios. This can be particularly useful for testing complex systems or APIs.\n",
      "3. **Error Detection**: Langsmith's language processing capabilities can help detect errors in test cases by analyzing the syntax and semantics of the test code. This can identify potential issues before they cause problems during testing.\n",
      "4. **Test Case Prioritization**: Langsmith can analyze test cases based on their complexity, risk, or priority, helping you focus on the most critical tests first.\n",
      "5. **Test Report Analysis**: After testing is complete, Langsmith can help analyze test reports to identify trends, patterns, and areas for improvement.\n",
      "\n",
      "To get started with Langsmith's testing capabilities, I recommend exploring its API documentation and integrating it with your existing testing frameworks or tools. You can also experiment with Langsmith's pre-built testing templates and examples to see how they can be applied to your specific use cases.\n",
      "\n",
      "How would you like to proceed? Would you like me to help you set up a proof-of-concept project using Langsmith for testing, or do you have any specific questions about its capabilities?\n"
     ]
    }
   ],
   "source": [
    "chat_prompt_template = ChatPromptTemplate.from_messages([\n",
    "    (\"system\", \"You are a world class technical documentation writer.\"),\n",
    "    (\"user\", \"{input}\")\n",
    "]) \n",
    "\n",
    "chain = chat_prompt_template | llm\n",
    "\n",
    "response = chain.invoke({\"input\": \"how can langsmith help with testing?\"})\n",
    "\n",
    "print(response)"
   ]
  },
  {
   "cell_type": "markdown",
   "metadata": {},
   "source": [
    "## testing llm: chat prompt template & StrOutputParser"
   ]
  },
  {
   "cell_type": "code",
   "execution_count": 19,
   "metadata": {},
   "outputs": [
    {
     "name": "stdout",
     "output_type": "stream",
     "text": [
      "As a world-class technical documentation writer, I'm excited to share some insights on how Langsmith can assist with testing.\n",
      "\n",
      "Langsmith is an AI-powered language translation tool that can be leveraged for testing purposes in several ways:\n",
      "\n",
      "1. **Automated Testing**: Langsmith's API integration allows you to automate testing by generating test cases and scenarios in multiple languages. This ensures that your software or application functions correctly across different linguistic and cultural contexts.\n",
      "2. **Localization Testing**: Langsmith can help with localization testing by providing translated test data, which enables you to verify the accuracy of translations and ensure that your product is culturally relevant for target markets.\n",
      "3. **Error Detection**: By generating test cases in multiple languages, Langsmith helps detect errors or inconsistencies in your software's translation, allowing you to identify and fix issues before they impact users.\n",
      "4. **Test Data Generation**: Langsmith can generate test data in various languages, which enables you to create comprehensive testing scenarios that cover different linguistic and cultural contexts.\n",
      "5. **Collaboration**: Langsmith facilitates collaboration among team members by providing a centralized platform for testing and translation-related tasks. This streamlines the testing process and reduces errors.\n",
      "\n",
      "By leveraging Langsmith's capabilities, you can ensure that your software or application is thoroughly tested and translated to meet the needs of diverse user bases worldwide.\n"
     ]
    }
   ],
   "source": [
    "chat_prompt_template = ChatPromptTemplate.from_messages([\n",
    "    (\"system\", \"You are a world class technical documentation writer.\"),\n",
    "    (\"user\", \"{input}\")\n",
    "]) \n",
    "\n",
    "output_parser = StrOutputParser()\n",
    "\n",
    "chain = chat_prompt_template | llm | output_parser\n",
    "\n",
    "response = chain.invoke({\"input\": \"how can langsmith help with testing?\"})\n",
    "\n",
    "print(response)"
   ]
  },
  {
   "cell_type": "markdown",
   "metadata": {},
   "source": [
    "## create vector store & create a retriever"
   ]
  },
  {
   "cell_type": "code",
   "execution_count": 3,
   "metadata": {},
   "outputs": [],
   "source": [
    "# 1. select a specfic datasource. In this case a web page. \n",
    "# 2. save extracted content from the web page as docs.\n",
    "# 3. index the docs using FAISS vector store.\n",
    "# 4. convert the vector store to retriever.\n",
    "\n",
    "web_base_loader = WebBaseLoader(\"https://docs.smith.langchain.com/user_guide\")\n",
    "\n",
    "docs = web_base_loader.load()\n",
    "# print(docs)\n",
    "# print(type(docs))\n",
    "# print(len(docs))\n",
    "# type(docs[0])\n",
    "# print(docs[0].page_content)\n",
    "\n",
    "recursive_character_text_splitter = RecursiveCharacterTextSplitter()\n",
    "documents = recursive_character_text_splitter.split_documents(documents=docs)\n",
    "\n",
    "# print(type(documents))\n",
    "# print(documents)\n",
    "# print(len(documents))\n",
    "# print(documents[0])\n",
    "# print(documents[3])\n",
    "\n",
    "ollama_embedding = OllamaEmbeddings(model=\"llama3:8b\")\n",
    "vector_store = FAISS.from_documents(documents=documents, embedding=ollama_embedding)\n",
    "\n",
    "# vector_store.index.ntotal\n",
    "# vector_store._get_retriever_tags()\n",
    "# vector_store.index_to_docstore_id\n",
    "# type(vector_store.index_to_docstore_id)\n",
    "\n",
    "vector_store_retriever = vector_store.as_retriever()"
   ]
  },
  {
   "cell_type": "markdown",
   "metadata": {},
   "source": [
    "## document chain"
   ]
  },
  {
   "cell_type": "code",
   "execution_count": 28,
   "metadata": {},
   "outputs": [
    {
     "name": "stdout",
     "output_type": "stream",
     "text": [
      "Based on the provided context, LangSmith can help with testing in the following ways:\n",
      "\n",
      "1. **Creating datasets**: LangSmith allows developers to create datasets, which are collections of inputs and reference outputs, and use these to run tests on their LLM applications.\n",
      "2. **Running custom evaluations**: LangSmith makes it easy to run custom evaluations (both LLM and heuristic-based) to score test results.\n",
      "3. **Comparison view**: Langsmith provides a comparison view for test runs to track and diagnose regressions in test scores across multiple revisions of the application.\n",
      "4. **Playground environment**: The playground environment allows developers to quickly test out different prompts and models, with each run logged in the system and able to be used to create test cases or compare with other runs.\n",
      "5. **Beta testing**: LangSmith supports beta testing by allowing developers to collect more data on how their LLM applications are performing in real-world scenarios, including feedback collection and run annotation.\n",
      "6. **Automations**: Automations can be used to automatically score traces, send them to annotation queues, or send them to datasets, making it easier to process traces at production scale.\n",
      "\n",
      "Overall, LangSmith provides a range of features that support testing and evaluation of LLM applications, from creating datasets and running custom evaluations to comparing results across different versions of the application.\n"
     ]
    }
   ],
   "source": [
    "# 5. create a chat prompt template\n",
    "# 6. create a stuff document chain that accepts a llm model and chat prompt template & we can also run stuff document chain by passing in documents directly\n",
    "\n",
    "chat_prompt_template = ChatPromptTemplate.from_template(\n",
    "\"\"\"Answer the following question based only on the provided context:\n",
    "\n",
    "<context>\n",
    "{context}\n",
    "</context>\n",
    "\n",
    "Question: {input}\"\"\"\n",
    ")\n",
    "\n",
    "documents_chain = create_stuff_documents_chain(llm=llm, prompt=chat_prompt_template)\n",
    "response = documents_chain.invoke(\n",
    "    {\n",
    "        \"input\": \"how can langsmith help with testing?\",\n",
    "        \"context\": documents        \n",
    "    }\n",
    ")\n",
    "print(response)"
   ]
  },
  {
   "cell_type": "markdown",
   "metadata": {},
   "source": [
    "## retrieval chain"
   ]
  },
  {
   "cell_type": "code",
   "execution_count": 15,
   "metadata": {},
   "outputs": [
    {
     "name": "stdout",
     "output_type": "stream",
     "text": [
      "{   'answer': 'Based on the provided context, LangSmith can help with testing '\n",
      "              'in several ways:\\n'\n",
      "              '\\n'\n",
      "              '1. **Tracing**: LangSmith allows developers to create datasets, '\n",
      "              'which are collections of inputs and reference outputs, and use '\n",
      "              'these to run tests on their LLM applications.\\n'\n",
      "              '2. **Evaluation**: LangSmith provides native rendering of chat '\n",
      "              'messages, functions, and retrieve documents, making it easy to '\n",
      "              'evaluate the performance of an application.\\n'\n",
      "              '3. **Comparison View**: Langsmith offers a comparison view for '\n",
      "              'test runs, allowing developers to track and diagnose '\n",
      "              'regressions in test scores across multiple revisions of their '\n",
      "              'application.\\n'\n",
      "              '4. **Playground**: The playground environment allows rapid '\n",
      "              'iteration and experimentation, enabling developers to quickly '\n",
      "              'test out different prompts and models.\\n'\n",
      "              '5. **Automations**: Automations can be used to automatically '\n",
      "              'score traces, send them to annotation queues, or send them to '\n",
      "              'datasets, making it easier to process and analyze large amounts '\n",
      "              'of data.\\n'\n",
      "              '\\n'\n",
      "              'Overall, LangSmith provides a comprehensive testing framework '\n",
      "              'that enables developers to create, evaluate, and refine their '\n",
      "              'LLM applications more efficiently.',\n",
      "    'context': [   Document(page_content='meaning that they involve a series of interactions between the user and the application. LangSmith provides a threads view that groups traces from a single conversation together, making it easier to track the performance of and annotate your application across multiple turns.Was this page helpful?PreviousQuick StartNextOverviewPrototypingBeta TestingProductionCommunityDiscordTwitterGitHubDocs CodeLangSmith SDKPythonJS/TSMoreHomepageBlogLangChain Python DocsLangChain JS/TS DocsCopyright © 2024 LangChain, Inc.', metadata={'source': 'https://docs.smith.langchain.com/user_guide', 'title': 'LangSmith User Guide | 🦜️🛠️ LangSmith', 'description': 'LangSmith is a platform for LLM application development, monitoring, and testing. In this guide, we’ll highlight the breadth of workflows LangSmith supports and how they fit into each stage of the application development lifecycle. We hope this will inform users how to best utilize this powerful platform or give them something to consider if they’re just starting their journey.', 'language': 'en'}),\n",
      "                   Document(page_content='LangSmith User Guide | 🦜️🛠️ LangSmith', metadata={'source': 'https://docs.smith.langchain.com/user_guide', 'title': 'LangSmith User Guide | 🦜️🛠️ LangSmith', 'description': 'LangSmith is a platform for LLM application development, monitoring, and testing. In this guide, we’ll highlight the breadth of workflows LangSmith supports and how they fit into each stage of the application development lifecycle. We hope this will inform users how to best utilize this powerful platform or give them something to consider if they’re just starting their journey.', 'language': 'en'}),\n",
      "                   Document(page_content='Skip to main contentLangSmith API DocsSearchGo to AppQuick StartUser GuideTracingEvaluationProduction Monitoring & AutomationsPrompt HubProxyPricingSelf-HostingCookbookUser GuideOn this pageLangSmith User GuideLangSmith is a platform for LLM application development, monitoring, and testing. In this guide, we’ll highlight the breadth of workflows LangSmith supports and how they fit into each stage of the application development lifecycle. We hope this will inform users how to best utilize this powerful platform or give them something to consider if they’re just starting their journey.Prototyping\\u200bPrototyping LLM applications often involves quick experimentation between prompts, model types, retrieval strategy and other parameters.\\nThe ability to rapidly understand how the model is performing — and debug where it is failing — is incredibly important for this phase.Debugging\\u200bWhen developing new LLM applications, we suggest having LangSmith tracing enabled by default.\\nOftentimes, it isn’t necessary to look at every single trace. However, when things go wrong (an unexpected end result, infinite agent loop, slower than expected execution, higher than expected token usage), it’s extremely helpful to debug by looking through the application traces. LangSmith gives clear visibility and debugging information at each step of an LLM sequence, making it much easier to identify and root-cause issues.\\nWe provide native rendering of chat messages, functions, and retrieve documents.Initial Test Set\\u200bWhile many developers still ship an initial version of their application based on “vibe checks”, we’ve seen an increasing number of engineering teams start to adopt a more test driven approach. LangSmith allows developers to create datasets, which are collections of inputs and reference outputs, and use these to run tests on their LLM applications.\\nThese test cases can be uploaded in bulk, created on the fly, or exported from application traces. LangSmith also makes it easy to run custom evaluations (both LLM and heuristic based) to score test results.Comparison View\\u200bWhen prototyping different versions of your applications and making changes, it’s important to see whether or not you’ve regressed with respect to your initial test cases.\\nOftentimes, changes in the prompt, retrieval strategy, or model choice can have huge implications in responses produced by your application.\\nIn order to get a sense for which variant is performing better, it’s useful to be able to view results for different configurations on the same datapoints side-by-side. We’ve invested heavily in a user-friendly comparison view for test runs to track and diagnose regressions in test scores across multiple revisions of your application.Playground\\u200bLangSmith provides a playground environment for rapid iteration and experimentation.\\nThis allows you to quickly test out different prompts and models. You can open the playground from any prompt or model run in your trace.', metadata={'source': 'https://docs.smith.langchain.com/user_guide', 'title': 'LangSmith User Guide | 🦜️🛠️ LangSmith', 'description': 'LangSmith is a platform for LLM application development, monitoring, and testing. In this guide, we’ll highlight the breadth of workflows LangSmith supports and how they fit into each stage of the application development lifecycle. We hope this will inform users how to best utilize this powerful platform or give them something to consider if they’re just starting their journey.', 'language': 'en'}),\n",
      "                   Document(page_content=\"Every playground run is logged in the system and can be used to create test cases or compare with other runs.Beta Testing\\u200bBeta testing allows developers to collect more data on how their LLM applications are performing in real-world scenarios. In this phase, it’s important to develop an understanding for the types of inputs the app is performing well or poorly on and how exactly it’s breaking down in those cases. Both feedback collection and run annotation are critical for this workflow. This will help in curation of test cases that can help track regressions/improvements and development of automatic evaluations.Capturing Feedback\\u200bWhen launching your application to an initial set of users, it’s important to gather human feedback on the responses it’s producing. This helps draw attention to the most interesting runs and highlight edge cases that are causing problematic responses. LangSmith allows you to attach feedback scores to logged traces (oftentimes, this is hooked up to a feedback button in your app), then filter on traces that have a specific feedback tag and score. A common workflow is to filter on traces that receive a poor user feedback score, then drill down into problematic points using the detailed trace view.Annotating Traces\\u200bLangSmith also supports sending runs to annotation queues, which allow annotators to closely inspect interesting traces and annotate them with respect to different criteria. Annotators can be PMs, engineers, or even subject matter experts. This allows users to catch regressions across important evaluation criteria.Adding Runs to a Dataset\\u200bAs your application progresses through the beta testing phase, it's essential to continue collecting data to refine and improve its performance. LangSmith enables you to add runs as examples to datasets (from both the project page and within an annotation queue), expanding your test coverage on real-world scenarios. This is a key benefit in having your logging system and your evaluation/testing system in the same platform.Production\\u200bClosely inspecting key data points, growing benchmarking datasets, annotating traces, and drilling down into important data in trace view are workflows you’ll also want to do once your app hits production.However, especially at the production stage, it’s crucial to get a high-level overview of application performance with respect to latency, cost, and feedback scores. This ensures that it's delivering desirable results at scale.Online evaluations and automations allow you to process and score production traces in near real-time.Additionally, threads provide a seamless way to group traces from a single conversation, making it easier to track the performance of your application across multiple turns.Monitoring and A/B Testing\\u200bLangSmith provides monitoring charts that allow you to track key metrics over time. You can expand to view metrics for a given period and drill down into a specific data point to get a trace table for that time period — this is especially handy for debugging production issues.LangSmith also allows for tag and metadata grouping, which allows users to mark different versions of their applications with different identifiers and view how they are performing side-by-side within each chart. This is helpful for A/B testing changes in prompt, model, or retrieval strategy.Automations\\u200bAutomations are a powerful feature in LangSmith that allow you to perform actions on traces in near real-time. This can be used to automatically score traces, send them to annotation queues, or send them to datasets.To define an automation, simply provide a filter condition, a sampling rate, and an action to perform. Automations are particularly helpful for processing traces at production scale.Threads\\u200bMany LLM applications are multi-turn, meaning that they involve a series of interactions between the user and the application. LangSmith provides a threads view that groups traces from a single conversation together, making it easier to\", metadata={'source': 'https://docs.smith.langchain.com/user_guide', 'title': 'LangSmith User Guide | 🦜️🛠️ LangSmith', 'description': 'LangSmith is a platform for LLM application development, monitoring, and testing. In this guide, we’ll highlight the breadth of workflows LangSmith supports and how they fit into each stage of the application development lifecycle. We hope this will inform users how to best utilize this powerful platform or give them something to consider if they’re just starting their journey.', 'language': 'en'})],\n",
      "    'input': 'how can langsmith help with testing?'}\n"
     ]
    }
   ],
   "source": [
    "# 7. create a document retrieval chain that takes vector store retriever and stuff document chain\n",
    "\n",
    "retrieval_chain = create_retrieval_chain(vector_store_retriever, documents_chain) \n",
    "response = retrieval_chain.invoke({\"input\": \"how can langsmith help with testing?\"})\n",
    "\n",
    "# print(type(response))\n",
    "pprint.pprint(response, indent=4)"
   ]
  },
  {
   "cell_type": "markdown",
   "metadata": {},
   "source": [
    "## conversation retrieval chain"
   ]
  },
  {
   "cell_type": "code",
   "execution_count": 4,
   "metadata": {},
   "outputs": [],
   "source": [
    "chat_prompt_template = ChatPromptTemplate.from_messages([\n",
    "    MessagesPlaceholder(variable_name=\"chat_history\"),\n",
    "    (\"user\", \"{input}\"),\n",
    "    (\"user\", \"Given the above conversation, generate a search query to look up to get information relevant to the conversation\")\n",
    "])\n",
    "\n",
    "history_aware_retriever_chain = create_history_aware_retriever(llm, vector_store_retriever, chat_prompt_template)"
   ]
  },
  {
   "cell_type": "code",
   "execution_count": 22,
   "metadata": {},
   "outputs": [],
   "source": [
    "# chat_history = [HumanMessage(content=\"Can LangSmith help test my LLM applications?\"), AIMessage(content=\"Yes!\")]\n",
    "\n",
    "# history_aware_retriever_chain.invoke({\n",
    "#     \"chat_history\": chat_history,\n",
    "#     \"input\": \"tell me how\"\n",
    "# })"
   ]
  },
  {
   "cell_type": "code",
   "execution_count": 5,
   "metadata": {},
   "outputs": [],
   "source": [
    "chat_prompt_template = ChatPromptTemplate.from_messages([\n",
    "    (\"system\", \"Answer the user's questions based on the below context:\\n\\n{context}\"),\n",
    "    MessagesPlaceholder(variable_name=\"chat_history\"),\n",
    "    (\"user\", \"{input}\")\n",
    "])\n",
    "\n",
    "document_chain = create_stuff_documents_chain(llm, chat_prompt_template)\n",
    "retrieval_chain = create_retrieval_chain(history_aware_retriever_chain, document_chain)"
   ]
  },
  {
   "cell_type": "code",
   "execution_count": 6,
   "metadata": {},
   "outputs": [
    {
     "name": "stdout",
     "output_type": "stream",
     "text": [
      "{'answer': 'LangSmith is designed to support various workflows throughout the '\n",
      "           \"development lifecycle of your LLM application. Here's an overview \"\n",
      "           'of how Langsmith can help you test your LLM applications:\\n'\n",
      "           '\\n'\n",
      "           '1. **Prototyping**: Langsmith provides a playground environment '\n",
      "           'for rapid iteration and experimentation. You can quickly test out '\n",
      "           'different prompts and models, and each run is logged in the '\n",
      "           'system.\\n'\n",
      "           '2. **Debugging**: When things go wrong, Langsmith gives you clear '\n",
      "           'visibility and debugging information at each step of an LLM '\n",
      "           'sequence, making it easier to identify and root-cause issues.\\n'\n",
      "           '3. **Initial Test Set**: You can create datasets, which are '\n",
      "           'collections of inputs and reference outputs, and use these to run '\n",
      "           'tests on your LLM applications.\\n'\n",
      "           '4. **Comparison View**: Langsmith allows you to view results for '\n",
      "           'different configurations on the same datapoints side-by-side, '\n",
      "           'making it easier to track and diagnose regressions in test scores '\n",
      "           'across multiple revisions of your application.\\n'\n",
      "           '5. **Beta Testing**: Langsmith enables you to collect more data on '\n",
      "           'how your LLM applications are performing in real-world scenarios. '\n",
      "           'You can gather human feedback on the responses produced by your '\n",
      "           'app and filter on traces that have a specific feedback tag and '\n",
      "           'score.\\n'\n",
      "           '6. **Annotating Traces**: Langsmith supports sending runs to '\n",
      "           'annotation queues, which allow annotators to closely inspect '\n",
      "           'interesting traces and annotate them with respect to different '\n",
      "           'criteria.\\n'\n",
      "           '7. **Adding Runs to a Dataset**: As your application progresses '\n",
      "           'through the beta testing phase, you can add runs as examples to '\n",
      "           'datasets, expanding your test coverage on real-world scenarios.\\n'\n",
      "           '\\n'\n",
      "           'Additionally, Langsmith provides features like:\\n'\n",
      "           '\\n'\n",
      "           '* **Threads**: A view that groups traces from a single '\n",
      "           'conversation together, making it easier to track the performance '\n",
      "           'of your application across multiple turns.\\n'\n",
      "           '* **Monitoring and A/B Testing**: Langsmith allows you to track '\n",
      "           'key metrics over time, drill down into specific data points, and '\n",
      "           'perform A/B testing on different versions of your applications.\\n'\n",
      "           '* **Automations**: You can define automations that automatically '\n",
      "           'score traces, send them to annotation queues, or send them to '\n",
      "           'datasets.\\n'\n",
      "           '\\n'\n",
      "           \"By using these features, you'll be able to effectively test and \"\n",
      "           'refine your LLM applications throughout the development lifecycle.',\n",
      " 'chat_history': [HumanMessage(content='Can LangSmith help test my LLM applications?'),\n",
      "                  AIMessage(content='Yes!')],\n",
      " 'context': [Document(page_content='meaning that they involve a series of interactions between the user and the application. LangSmith provides a threads view that groups traces from a single conversation together, making it easier to track the performance of and annotate your application across multiple turns.Was this page helpful?PreviousQuick StartNextOverviewPrototypingBeta TestingProductionCommunityDiscordTwitterGitHubDocs CodeLangSmith SDKPythonJS/TSMoreHomepageBlogLangChain Python DocsLangChain JS/TS DocsCopyright © 2024 LangChain, Inc.', metadata={'source': 'https://docs.smith.langchain.com/user_guide', 'title': 'LangSmith User Guide | 🦜️🛠️ LangSmith', 'description': 'LangSmith is a platform for LLM application development, monitoring, and testing. In this guide, we’ll highlight the breadth of workflows LangSmith supports and how they fit into each stage of the application development lifecycle. We hope this will inform users how to best utilize this powerful platform or give them something to consider if they’re just starting their journey.', 'language': 'en'}),\n",
      "             Document(page_content='Skip to main contentLangSmith API DocsSearchGo to AppQuick StartUser GuideTracingEvaluationProduction Monitoring & AutomationsPrompt HubProxyPricingSelf-HostingCookbookUser GuideOn this pageLangSmith User GuideLangSmith is a platform for LLM application development, monitoring, and testing. In this guide, we’ll highlight the breadth of workflows LangSmith supports and how they fit into each stage of the application development lifecycle. We hope this will inform users how to best utilize this powerful platform or give them something to consider if they’re just starting their journey.Prototyping\\u200bPrototyping LLM applications often involves quick experimentation between prompts, model types, retrieval strategy and other parameters.\\nThe ability to rapidly understand how the model is performing — and debug where it is failing — is incredibly important for this phase.Debugging\\u200bWhen developing new LLM applications, we suggest having LangSmith tracing enabled by default.\\nOftentimes, it isn’t necessary to look at every single trace. However, when things go wrong (an unexpected end result, infinite agent loop, slower than expected execution, higher than expected token usage), it’s extremely helpful to debug by looking through the application traces. LangSmith gives clear visibility and debugging information at each step of an LLM sequence, making it much easier to identify and root-cause issues.\\nWe provide native rendering of chat messages, functions, and retrieve documents.Initial Test Set\\u200bWhile many developers still ship an initial version of their application based on “vibe checks”, we’ve seen an increasing number of engineering teams start to adopt a more test driven approach. LangSmith allows developers to create datasets, which are collections of inputs and reference outputs, and use these to run tests on their LLM applications.\\nThese test cases can be uploaded in bulk, created on the fly, or exported from application traces. LangSmith also makes it easy to run custom evaluations (both LLM and heuristic based) to score test results.Comparison View\\u200bWhen prototyping different versions of your applications and making changes, it’s important to see whether or not you’ve regressed with respect to your initial test cases.\\nOftentimes, changes in the prompt, retrieval strategy, or model choice can have huge implications in responses produced by your application.\\nIn order to get a sense for which variant is performing better, it’s useful to be able to view results for different configurations on the same datapoints side-by-side. We’ve invested heavily in a user-friendly comparison view for test runs to track and diagnose regressions in test scores across multiple revisions of your application.Playground\\u200bLangSmith provides a playground environment for rapid iteration and experimentation.\\nThis allows you to quickly test out different prompts and models. You can open the playground from any prompt or model run in your trace.', metadata={'source': 'https://docs.smith.langchain.com/user_guide', 'title': 'LangSmith User Guide | 🦜️🛠️ LangSmith', 'description': 'LangSmith is a platform for LLM application development, monitoring, and testing. In this guide, we’ll highlight the breadth of workflows LangSmith supports and how they fit into each stage of the application development lifecycle. We hope this will inform users how to best utilize this powerful platform or give them something to consider if they’re just starting their journey.', 'language': 'en'}),\n",
      "             Document(page_content='LangSmith User Guide | 🦜️🛠️ LangSmith', metadata={'source': 'https://docs.smith.langchain.com/user_guide', 'title': 'LangSmith User Guide | 🦜️🛠️ LangSmith', 'description': 'LangSmith is a platform for LLM application development, monitoring, and testing. In this guide, we’ll highlight the breadth of workflows LangSmith supports and how they fit into each stage of the application development lifecycle. We hope this will inform users how to best utilize this powerful platform or give them something to consider if they’re just starting their journey.', 'language': 'en'}),\n",
      "             Document(page_content=\"Every playground run is logged in the system and can be used to create test cases or compare with other runs.Beta Testing\\u200bBeta testing allows developers to collect more data on how their LLM applications are performing in real-world scenarios. In this phase, it’s important to develop an understanding for the types of inputs the app is performing well or poorly on and how exactly it’s breaking down in those cases. Both feedback collection and run annotation are critical for this workflow. This will help in curation of test cases that can help track regressions/improvements and development of automatic evaluations.Capturing Feedback\\u200bWhen launching your application to an initial set of users, it’s important to gather human feedback on the responses it’s producing. This helps draw attention to the most interesting runs and highlight edge cases that are causing problematic responses. LangSmith allows you to attach feedback scores to logged traces (oftentimes, this is hooked up to a feedback button in your app), then filter on traces that have a specific feedback tag and score. A common workflow is to filter on traces that receive a poor user feedback score, then drill down into problematic points using the detailed trace view.Annotating Traces\\u200bLangSmith also supports sending runs to annotation queues, which allow annotators to closely inspect interesting traces and annotate them with respect to different criteria. Annotators can be PMs, engineers, or even subject matter experts. This allows users to catch regressions across important evaluation criteria.Adding Runs to a Dataset\\u200bAs your application progresses through the beta testing phase, it's essential to continue collecting data to refine and improve its performance. LangSmith enables you to add runs as examples to datasets (from both the project page and within an annotation queue), expanding your test coverage on real-world scenarios. This is a key benefit in having your logging system and your evaluation/testing system in the same platform.Production\\u200bClosely inspecting key data points, growing benchmarking datasets, annotating traces, and drilling down into important data in trace view are workflows you’ll also want to do once your app hits production.However, especially at the production stage, it’s crucial to get a high-level overview of application performance with respect to latency, cost, and feedback scores. This ensures that it's delivering desirable results at scale.Online evaluations and automations allow you to process and score production traces in near real-time.Additionally, threads provide a seamless way to group traces from a single conversation, making it easier to track the performance of your application across multiple turns.Monitoring and A/B Testing\\u200bLangSmith provides monitoring charts that allow you to track key metrics over time. You can expand to view metrics for a given period and drill down into a specific data point to get a trace table for that time period — this is especially handy for debugging production issues.LangSmith also allows for tag and metadata grouping, which allows users to mark different versions of their applications with different identifiers and view how they are performing side-by-side within each chart. This is helpful for A/B testing changes in prompt, model, or retrieval strategy.Automations\\u200bAutomations are a powerful feature in LangSmith that allow you to perform actions on traces in near real-time. This can be used to automatically score traces, send them to annotation queues, or send them to datasets.To define an automation, simply provide a filter condition, a sampling rate, and an action to perform. Automations are particularly helpful for processing traces at production scale.Threads\\u200bMany LLM applications are multi-turn, meaning that they involve a series of interactions between the user and the application. LangSmith provides a threads view that groups traces from a single conversation together, making it easier to\", metadata={'source': 'https://docs.smith.langchain.com/user_guide', 'title': 'LangSmith User Guide | 🦜️🛠️ LangSmith', 'description': 'LangSmith is a platform for LLM application development, monitoring, and testing. In this guide, we’ll highlight the breadth of workflows LangSmith supports and how they fit into each stage of the application development lifecycle. We hope this will inform users how to best utilize this powerful platform or give them something to consider if they’re just starting their journey.', 'language': 'en'})],\n",
      " 'input': 'tell me how'}\n"
     ]
    }
   ],
   "source": [
    "chat_history = [HumanMessage(content=\"Can LangSmith help test my LLM applications?\"), AIMessage(content=\"Yes!\")]\n",
    "\n",
    "response = retrieval_chain.invoke({\n",
    "    \"chat_history\": chat_history,\n",
    "    \"input\": \"tell me how\"\n",
    "})\n",
    "\n",
    "pprint.pprint(response)"
   ]
  },
  {
   "cell_type": "markdown",
   "metadata": {},
   "source": [
    "## Agent"
   ]
  },
  {
   "cell_type": "markdown",
   "metadata": {},
   "source": []
  }
 ],
 "metadata": {
  "kernelspec": {
   "display_name": "env-llm",
   "language": "python",
   "name": "python3"
  },
  "language_info": {
   "codemirror_mode": {
    "name": "ipython",
    "version": 3
   },
   "file_extension": ".py",
   "mimetype": "text/x-python",
   "name": "python",
   "nbconvert_exporter": "python",
   "pygments_lexer": "ipython3",
   "version": "3.10.12"
  }
 },
 "nbformat": 4,
 "nbformat_minor": 2
}
