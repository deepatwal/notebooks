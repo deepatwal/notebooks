{
 "cells": [
  {
   "cell_type": "markdown",
   "metadata": {},
   "source": [
    "# import"
   ]
  },
  {
   "cell_type": "code",
   "execution_count": 9,
   "metadata": {},
   "outputs": [],
   "source": [
    "import os\n",
    "import json\n",
    "from langchain_community.llms import Ollama\n",
    "from langchain_core.prompts import ChatPromptTemplate\n",
    "from langchain_core.output_parsers import StrOutputParser\n",
    "from langchain_community.document_loaders import WebBaseLoader\n",
    "from langchain_community.embeddings import OllamaEmbeddings\n",
    "from langchain_community.vectorstores import FAISS\n",
    "from langchain_text_splitters import RecursiveCharacterTextSplitter"
   ]
  },
  {
   "cell_type": "markdown",
   "metadata": {},
   "source": [
    "# check ollama status"
   ]
  },
  {
   "cell_type": "code",
   "execution_count": 2,
   "metadata": {},
   "outputs": [
    {
     "name": "stdout",
     "output_type": "stream",
     "text": [
      "{\"model\":\"llama3:8b\",\"created_at\":\"2024-04-26T18:57:35.616563335Z\",\"response\":\"What a great question!\\n\\nThe short answer is: scattering of light by tiny molecules in the atmosphere.\\n\\nHere's a more detailed explanation:\\n\\nWhen sunlight enters Earth's atmosphere, it encounters tiny molecules of gases like nitrogen (N2) and oxygen (O2). These molecules are much smaller than the wavelength of visible light, so they scatter the light in all directions. This is known as Rayleigh scattering, named after the British physicist Lord Rayleigh, who first described the phenomenon in the late 19th century.\\n\\nNow, here's the important part: shorter (blue) wavelengths are scattered more than longer (red) wavelengths. This is because the smaller molecules are more effective at scattering the shorter wavelengths. Think of it like a game of pool: the smaller balls (blue light) bounce around more easily than the larger ones (red light).\\n\\nAs a result, our eyes perceive the blue light as being scattered in all directions, giving the sky its blue appearance. The color we see is actually the combined effect of the scattered blue light and the direct sunlight that reaches our eyes.\\n\\nOther factors can influence the apparent color of the sky, such as:\\n\\n1. Atmospheric conditions: Dust, pollution, and water vapor can scatter light in different ways, changing the sky's color.\\n2. Time of day: During sunrise and sunset, the sun's rays have to travel longer distances through the atmosphere, scattering more blue light and making the sky appear more red or orange.\\n3. Altitude and atmospheric pressure: At higher altitudes or with lower atmospheric pressure, the air is thinner, and the sky can appear more intense blue.\\n\\nSo, there you have it! The blue color of the sky is a result of the scattering of sunlight by tiny molecules in our atmosphere.\",\"done\":true,\"context\":[128006,882,128007,198,198,35734,374,279,13180,6437,949,128009,128006,78191,128007,198,198,3923,264,2294,3488,4999,198,791,2875,4320,374,25,72916,315,3177,555,13987,35715,304,279,16975,627,198,8586,596,264,810,11944,16540,512,198,4599,40120,29933,9420,596,16975,11,433,35006,13987,35715,315,45612,1093,47503,320,45,17,8,323,24463,320,46,17,570,4314,35715,527,1790,9333,1109,279,46406,315,9621,3177,11,779,814,45577,279,3177,304,682,18445,13,1115,374,3967,439,13558,64069,72916,11,7086,1306,279,8013,83323,10425,13558,64069,11,889,1176,7633,279,25885,304,279,3389,220,777,339,9478,627,198,7184,11,1618,596,279,3062,961,25,24210,320,12481,8,93959,527,38067,810,1109,5129,320,1171,8,93959,13,1115,374,1606,279,9333,35715,527,810,7524,520,72916,279,24210,93959,13,21834,315,433,1093,264,1847,315,7463,25,279,9333,20953,320,12481,3177,8,34782,2212,810,6847,1109,279,8294,6305,320,1171,3177,570,198,198,2170,264,1121,11,1057,6548,45493,279,6437,3177,439,1694,38067,304,682,18445,11,7231,279,13180,1202,6437,11341,13,578,1933,584,1518,374,3604,279,11093,2515,315,279,38067,6437,3177,323,279,2167,40120,430,25501,1057,6548,627,198,11663,9547,649,10383,279,10186,1933,315,279,13180,11,1778,439,512,198,16,13,87597,4787,25,33093,11,25793,11,323,3090,38752,649,45577,3177,304,2204,5627,11,10223,279,13180,596,1933,13,198,17,13,4212,315,1938,25,12220,64919,323,44084,11,279,7160,596,45220,617,311,5944,5129,27650,1555,279,16975,11,72916,810,6437,3177,323,3339,279,13180,5101,810,2579,477,19087,13,198,18,13,24610,3993,323,45475,7410,25,2468,5190,4902,21237,477,449,4827,45475,7410,11,279,3805,374,65355,11,323,279,13180,649,5101,810,19428,6437,627,198,4516,11,1070,499,617,433,0,578,6437,1933,315,279,13180,374,264,1121,315,279,72916,315,40120,555,13987,35715,304,1057,16975,13,128009],\"total_duration\":20911557927,\"load_duration\":8843556481,\"prompt_eval_count\":16,\"prompt_eval_duration\":270078000,\"eval_count\":354,\"eval_duration\":11747768000}"
     ]
    }
   ],
   "source": [
    "!curl --location 'http://127.0.0.1:11434/api/generate' \\\n",
    "--header 'Content-Type: application/json' \\\n",
    "--data '{ \\\n",
    "    \"model\": \"llama3:8b\", \\\n",
    "    \"prompt\": \"why is the sky blue ?\",  \\\n",
    "    \"stream\": false, \\\n",
    "    \"options\": { \\\n",
    "        \"temperature\": 0 \\\n",
    "    } \\\n",
    "}' \\\n",
    "# | python -m json.tool"
   ]
  },
  {
   "cell_type": "code",
   "execution_count": 3,
   "metadata": {},
   "outputs": [
    {
     "name": "stdout",
     "output_type": "stream",
     "text": [
      "{\"models\":[{\"name\":\"llama3:8b\",\"model\":\"llama3:8b\",\"modified_at\":\"2024-04-25T15:53:32.490960207+02:00\",\"size\":4661224578,\"digest\":\"a6990ed6be412c6a217614b0ec8e9cd6800a743d5dd7e1d7fbe9df09e61d5615\",\"details\":{\"parent_model\":\"\",\"format\":\"gguf\",\"family\":\"llama\",\"families\":[\"llama\"],\"parameter_size\":\"8B\",\"quantization_level\":\"Q4_0\"}}]}"
     ]
    }
   ],
   "source": [
    "!curl http://localhost:11434/api/tags"
   ]
  },
  {
   "cell_type": "markdown",
   "metadata": {},
   "source": [
    "# langchain with Ollama model"
   ]
  },
  {
   "cell_type": "code",
   "execution_count": 4,
   "metadata": {},
   "outputs": [],
   "source": [
    "llm = Ollama(model=\"llama3:8b\", temperature=0)"
   ]
  },
  {
   "cell_type": "markdown",
   "metadata": {},
   "source": [
    "## testing llm: invoke\n"
   ]
  },
  {
   "cell_type": "code",
   "execution_count": 3,
   "metadata": {},
   "outputs": [
    {
     "data": {
      "text/plain": [
       "\"Langsmith, a language model, can assist with testing in several ways:\\n\\n1. **Automated Testing**: Langsmith can be used to generate test cases and test data for automated testing frameworks like Selenium or Pytest. It can create scenarios, inputs, and expected outputs based on the requirements.\\n2. **Natural Language Processing (NLP) Testing**: Langsmith's NLP capabilities can help test text-based APIs, chatbots, or language processing systems. It can generate test cases that simulate user interactions, such as sending messages or making requests.\\n3. **Error Detection**: Langsmith can be trained to detect errors in natural language inputs, such as syntax errors, grammatical errors, or semantic errors. This can help identify issues early on in the development process.\\n4. **Test Data Generation**: Langsmith can generate test data for testing APIs, databases, or other systems that rely on text-based inputs. It can create a wide range of test cases, including edge cases and corner cases.\\n5. **Code Review**: Langsmith's language understanding capabilities can help with code review by analyzing the syntax, semantics, and style of code. This can identify potential issues before they become problems.\\n6. **Test Case Prioritization**: Langsmith can analyze test cases and prioritize them based on their complexity, risk, or importance. This helps developers focus on the most critical tests first.\\n7. **Regression Testing**: Langsmith can assist with regression testing by generating test cases that cover specific scenarios, such as user interactions or system behaviors.\\n\\nTo leverage Langsmith for testing, you'll need to:\\n\\n1. Train Langsmith on your specific domain or problem space.\\n2. Define the testing requirements and objectives.\\n3. Use Langsmith's APIs or integrate it with your testing framework.\\n4. Generate test cases, data, or scenarios using Langsmith's capabilities.\\n\\nBy incorporating Langsmith into your testing process, you can improve the efficiency, effectiveness, and accuracy of your tests, ultimately leading to higher-quality software products.\""
      ]
     },
     "execution_count": 3,
     "metadata": {},
     "output_type": "execute_result"
    }
   ],
   "source": [
    "# llm.invoke(input=\"tell me a joke\")\n",
    "llm.invoke(\"how can langsmith help with testing ?\")\n"
   ]
  },
  {
   "cell_type": "markdown",
   "metadata": {},
   "source": [
    "## testing llm model: chat prompt"
   ]
  },
  {
   "cell_type": "code",
   "execution_count": 4,
   "metadata": {},
   "outputs": [
    {
     "name": "stdout",
     "output_type": "stream",
     "text": [
      "As a world-class technical documentation writer, I'm excited to share some insights on how Langsmith can assist with testing.\n",
      "\n",
      "Langsmith's AI-powered language processing capabilities can be leveraged in various ways to enhance the testing process. Here are some ideas:\n",
      "\n",
      "1. **Automated Testing**: Langsmith can help automate testing by generating test cases based on natural language descriptions. This can save time and reduce the need for manual testing.\n",
      "2. **Test Data Generation**: Langsmith's AI can generate test data, such as input values or expected output results, based on predefined patterns or scenarios. This can help ensure that tests cover a wide range of possible inputs and edge cases.\n",
      "3. **Error Message Analysis**: When errors occur during testing, Langsmith can analyze error messages to identify the root cause and provide insights for debugging. This can save time and effort in identifying and resolving issues.\n",
      "4. **Test Case Prioritization**: Langsmith's AI can help prioritize test cases based on their complexity, risk level, or business impact. This ensures that critical tests are executed first, reducing the overall testing time and improving test efficiency.\n",
      "5. **Test Report Analysis**: After testing is complete, Langsmith can analyze test reports to identify trends, patterns, and areas for improvement. This helps teams refine their testing strategies and optimize their testing processes.\n",
      "\n",
      "By integrating Langsmith's AI capabilities into your testing workflow, you can streamline the testing process, reduce manual effort, and improve overall test quality. How would you like to leverage Langsmith in your testing efforts?\n"
     ]
    }
   ],
   "source": [
    "chat_prompt_template = ChatPromptTemplate.from_messages([\n",
    "    (\"system\", \"You are a world class technical documentation writer.\"),\n",
    "    (\"user\", \"{input}\")\n",
    "]) \n",
    "\n",
    "chain = chat_prompt_template | llm\n",
    "\n",
    "response = chain.invoke({\"input\": \"how can langsmith help with testing?\"})\n",
    "\n",
    "print(response)"
   ]
  },
  {
   "cell_type": "markdown",
   "metadata": {},
   "source": [
    "## testing llm model: chat prompt & StrOutputParser"
   ]
  },
  {
   "cell_type": "code",
   "execution_count": 5,
   "metadata": {},
   "outputs": [
    {
     "name": "stdout",
     "output_type": "stream",
     "text": [
      "As a world-class technical documentation writer, I'm excited to share some insights on how Langsmith can assist with testing.\n",
      "\n",
      "Langsmith's AI-powered language processing capabilities can be leveraged in various ways to enhance the testing process. Here are some ideas:\n",
      "\n",
      "1. **Automated Testing**: Langsmith can help automate testing by generating test cases based on natural language descriptions. This can save time and reduce the likelihood of human error.\n",
      "2. **Test Data Generation**: Langsmith's AI can generate test data, such as input values or expected output results, based on predefined patterns or scenarios. This can be particularly useful for testing complex systems or APIs.\n",
      "3. **Error Detection**: Langsmith's language processing capabilities can help detect errors in test cases by analyzing the syntax and semantics of the test code. This can identify potential issues before they cause problems during testing.\n",
      "4. **Test Case Prioritization**: Langsmith can analyze test cases based on their complexity, risk level, or priority, helping you focus on the most critical tests first.\n",
      "5. **Test Report Analysis**: After testing is complete, Langsmith can help analyze test reports to identify trends, patterns, and areas for improvement.\n",
      "\n",
      "To get started with Langsmith's testing capabilities, I recommend exploring its API documentation and integrating it with your existing testing frameworks or tools. You can also experiment with Langsmith's pre-built testing templates and examples to see how they can be applied to your specific use cases.\n",
      "\n",
      "How would you like to proceed? Would you like me to provide more information on a specific aspect of Langsmith's testing capabilities, or do you have any questions about integrating it with your existing workflow?\n"
     ]
    }
   ],
   "source": [
    "chat_prompt_template = ChatPromptTemplate.from_messages([\n",
    "    (\"system\", \"You are a world class technical documentation writer.\"),\n",
    "    (\"user\", \"{input}\")\n",
    "]) \n",
    "\n",
    "output_parser = StrOutputParser()\n",
    "\n",
    "chain = chat_prompt_template | llm | output_parser\n",
    "\n",
    "response = chain.invoke({\"input\": \"how can langsmith help with testing?\"})\n",
    "\n",
    "print(response)"
   ]
  },
  {
   "cell_type": "markdown",
   "metadata": {},
   "source": [
    "## retrieval chain"
   ]
  },
  {
   "cell_type": "code",
   "execution_count": 31,
   "metadata": {},
   "outputs": [],
   "source": [
    "web_base_loader = WebBaseLoader(\"https://docs.smith.langchain.com/user_guide\")\n",
    "\n",
    "docs = web_base_loader.load()\n",
    "# print(docs)\n",
    "# print(type(docs))\n",
    "# print(len(docs))\n",
    "# type(docs[0])\n",
    "# print(docs[0].page_content)\n",
    "\n",
    "ollama_embedding = OllamaEmbeddings()\n",
    "\n",
    "recursive_character_text_splitter = RecursiveCharacterTextSplitter()\n",
    "documents = recursive_character_text_splitter.split_documents(documents=docs)\n",
    "# print(type(documents))\n",
    "# print(len(documents))\n",
    "# print(documents[0])\n",
    "# print(documents[3])"
   ]
  },
  {
   "cell_type": "code",
   "execution_count": null,
   "metadata": {},
   "outputs": [],
   "source": []
  }
 ],
 "metadata": {
  "kernelspec": {
   "display_name": "env-llm",
   "language": "python",
   "name": "python3"
  },
  "language_info": {
   "codemirror_mode": {
    "name": "ipython",
    "version": 3
   },
   "file_extension": ".py",
   "mimetype": "text/x-python",
   "name": "python",
   "nbconvert_exporter": "python",
   "pygments_lexer": "ipython3",
   "version": "3.10.12"
  }
 },
 "nbformat": 4,
 "nbformat_minor": 2
}
