{
 "cells": [
  {
   "cell_type": "markdown",
   "metadata": {},
   "source": [
    "# import"
   ]
  },
  {
   "cell_type": "code",
   "execution_count": 11,
   "metadata": {},
   "outputs": [],
   "source": [
    "import os\n",
    "from langchain_community.llms import Ollama"
   ]
  },
  {
   "cell_type": "markdown",
   "metadata": {},
   "source": [
    "# check ollama status"
   ]
  },
  {
   "cell_type": "code",
   "execution_count": 12,
   "metadata": {},
   "outputs": [
    {
     "name": "stdout",
     "output_type": "stream",
     "text": [
      "{\"model\":\"llama3:8b\",\"created_at\":\"2024-04-25T16:24:48.329490522Z\",\"response\":\"What a great question!\\n\\nThe short answer is: scattering of light by tiny molecules in the atmosphere.\\n\\nHere's a more detailed explanation:\\n\\nWhen sunlight enters Earth's atmosphere, it encounters tiny molecules of gases like nitrogen (N2) and oxygen (O2). These molecules are much smaller than the wavelength of visible light, so they scatter the light in all directions. This is known as Rayleigh scattering, named after the British physicist Lord Rayleigh, who first described the phenomenon in the late 19th century.\\n\\nNow, here's the important part: shorter (blue) wavelengths are scattered more than longer (red) wavelengths. This is because the smaller molecules are more effective at scattering the shorter wavelengths. Think of it like a game of pool: the smaller balls (blue light) bounce around more easily than the larger ones (red light).\\n\\nAs a result, our eyes perceive the blue light as being scattered in all directions, giving the sky its blue appearance. The color we see is actually the combined effect of the scattered blue light and the direct sunlight that reaches our eyes.\\n\\nOther factors can influence the apparent color of the sky, such as:\\n\\n1. Atmospheric conditions: Dust, pollution, and water vapor can scatter light in different ways, changing the sky's color.\\n2. Time of day: During sunrise and sunset, the sun's rays have to travel longer distances through the atmosphere, scattering more blue light and making the sky appear more red or orange.\\n3. Altitude and atmospheric pressure: At higher altitudes or with lower atmospheric pressure, the air is thinner, and the sky can appear more intense blue.\\n\\nSo, there you have it! The blue color of the sky is a result of the scattering of sunlight by tiny molecules in our atmosphere.\",\"done\":true,\"context\":[128006,882,128007,198,198,35734,374,279,13180,6437,949,128009,128006,78191,128007,198,198,3923,264,2294,3488,4999,198,791,2875,4320,374,25,72916,315,3177,555,13987,35715,304,279,16975,627,198,8586,596,264,810,11944,16540,512,198,4599,40120,29933,9420,596,16975,11,433,35006,13987,35715,315,45612,1093,47503,320,45,17,8,323,24463,320,46,17,570,4314,35715,527,1790,9333,1109,279,46406,315,9621,3177,11,779,814,45577,279,3177,304,682,18445,13,1115,374,3967,439,13558,64069,72916,11,7086,1306,279,8013,83323,10425,13558,64069,11,889,1176,7633,279,25885,304,279,3389,220,777,339,9478,627,198,7184,11,1618,596,279,3062,961,25,24210,320,12481,8,93959,527,38067,810,1109,5129,320,1171,8,93959,13,1115,374,1606,279,9333,35715,527,810,7524,520,72916,279,24210,93959,13,21834,315,433,1093,264,1847,315,7463,25,279,9333,20953,320,12481,3177,8,34782,2212,810,6847,1109,279,8294,6305,320,1171,3177,570,198,198,2170,264,1121,11,1057,6548,45493,279,6437,3177,439,1694,38067,304,682,18445,11,7231,279,13180,1202,6437,11341,13,578,1933,584,1518,374,3604,279,11093,2515,315,279,38067,6437,3177,323,279,2167,40120,430,25501,1057,6548,627,198,11663,9547,649,10383,279,10186,1933,315,279,13180,11,1778,439,512,198,16,13,87597,4787,25,33093,11,25793,11,323,3090,38752,649,45577,3177,304,2204,5627,11,10223,279,13180,596,1933,13,198,17,13,4212,315,1938,25,12220,64919,323,44084,11,279,7160,596,45220,617,311,5944,5129,27650,1555,279,16975,11,72916,810,6437,3177,323,3339,279,13180,5101,810,2579,477,19087,13,198,18,13,24610,3993,323,45475,7410,25,2468,5190,4902,21237,477,449,4827,45475,7410,11,279,3805,374,65355,11,323,279,13180,649,5101,810,19428,6437,627,198,4516,11,1070,499,617,433,0,578,6437,1933,315,279,13180,374,264,1121,315,279,72916,315,40120,555,13987,35715,304,1057,16975,13,128009],\"total_duration\":17053168808,\"load_duration\":7778135559,\"prompt_eval_count\":16,\"prompt_eval_duration\":98327000,\"eval_count\":354,\"eval_duration\":9132065000}"
     ]
    }
   ],
   "source": [
    "!curl --location 'http://127.0.0.1:11434/api/generate' \\\n",
    "--header 'Content-Type: application/json' \\\n",
    "--data '{ \\\n",
    "    \"model\": \"llama3:8b\", \\\n",
    "    \"prompt\": \"why is the sky blue ?\",  \\\n",
    "    \"stream\": false, \\\n",
    "    \"options\": { \\\n",
    "        \"temperature\": 0 \\\n",
    "    } \\\n",
    "}' \\\n",
    "# | python -m json.tool"
   ]
  },
  {
   "cell_type": "code",
   "execution_count": 13,
   "metadata": {},
   "outputs": [
    {
     "name": "stdout",
     "output_type": "stream",
     "text": [
      "{\"models\":[{\"name\":\"llama3:8b\",\"model\":\"llama3:8b\",\"modified_at\":\"2024-04-25T15:53:32.490960207+02:00\",\"size\":4661224578,\"digest\":\"a6990ed6be412c6a217614b0ec8e9cd6800a743d5dd7e1d7fbe9df09e61d5615\",\"details\":{\"parent_model\":\"\",\"format\":\"gguf\",\"family\":\"llama\",\"families\":[\"llama\"],\"parameter_size\":\"8B\",\"quantization_level\":\"Q4_0\"}}]}"
     ]
    }
   ],
   "source": [
    "!curl http://localhost:11434/api/tags"
   ]
  },
  {
   "cell_type": "markdown",
   "metadata": {},
   "source": [
    "# langchain with Ollama model"
   ]
  },
  {
   "cell_type": "code",
   "execution_count": 14,
   "metadata": {},
   "outputs": [],
   "source": [
    "llm = Ollama(model=\"llama3:8b\")"
   ]
  },
  {
   "cell_type": "code",
   "execution_count": 15,
   "metadata": {},
   "outputs": [
    {
     "data": {
      "text/plain": [
       "\"Why don't scientists trust atoms?\\n\\nBecause they make up everything!\\n\\nHope that made you smile!\""
      ]
     },
     "execution_count": 15,
     "metadata": {},
     "output_type": "execute_result"
    }
   ],
   "source": [
    "llm.invoke(input=\"tell me a joke\")"
   ]
  },
  {
   "cell_type": "code",
   "execution_count": null,
   "metadata": {},
   "outputs": [],
   "source": []
  },
  {
   "cell_type": "code",
   "execution_count": null,
   "metadata": {},
   "outputs": [],
   "source": []
  }
 ],
 "metadata": {
  "kernelspec": {
   "display_name": "env-llm",
   "language": "python",
   "name": "python3"
  },
  "language_info": {
   "codemirror_mode": {
    "name": "ipython",
    "version": 3
   },
   "file_extension": ".py",
   "mimetype": "text/x-python",
   "name": "python",
   "nbconvert_exporter": "python",
   "pygments_lexer": "ipython3",
   "version": "3.10.12"
  }
 },
 "nbformat": 4,
 "nbformat_minor": 2
}
