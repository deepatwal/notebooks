{
 "cells": [
  {
   "cell_type": "markdown",
   "metadata": {},
   "source": [
    "# imports"
   ]
  },
  {
   "cell_type": "code",
   "execution_count": 18,
   "metadata": {},
   "outputs": [],
   "source": [
    "from langchain_community.llms import Ollama\n",
    "from langchain_community.chat_models import ChatOllama\n",
    "from langchain_core.messages import (\n",
    "    SystemMessage,\n",
    "    AIMessage,\n",
    "    HumanMessage\n",
    ")\n",
    "from langchain_core.prompts import PromptTemplate\n",
    "from langchain_core.prompts.chat import ChatPromptTemplate\n",
    "from langchain.output_parsers import CommaSeparatedListOutputParser\n",
    "from langchain_core.prompts import (\n",
    "    ChatMessagePromptTemplate,\n",
    "    ChatPromptTemplate,\n",
    "    HumanMessagePromptTemplate,\n",
    "    MessagesPlaceholder\n",
    ")"
   ]
  },
  {
   "cell_type": "markdown",
   "metadata": {},
   "source": [
    "# langauge models in langchain"
   ]
  },
  {
   "cell_type": "markdown",
   "metadata": {},
   "source": [
    "### llms: refers to pure text completion models"
   ]
  },
  {
   "cell_type": "code",
   "execution_count": 6,
   "metadata": {},
   "outputs": [],
   "source": [
    "llm = Ollama(model=\"llama3:8b\", temperature=0)"
   ]
  },
  {
   "cell_type": "code",
   "execution_count": 8,
   "metadata": {},
   "outputs": [
    {
     "name": "stdout",
     "output_type": "stream",
     "text": [
      "<class 'str'>\n",
      "What a fun question!\n",
      "\n",
      "Here are some ideas for a company name that makes colorful socks:\n",
      "\n",
      "1. **SockSations**: A playful combination of \"socks\" and \"sensations,\" implying excitement and vibrancy.\n",
      "2. **HueHub**: A nod to the colorful hues of your socks, with \"hub\" suggesting a central gathering place or community.\n",
      "3. **ToeTally Fun**: A whimsical name that references the fun, playful nature of your products.\n",
      "4. **SoleMates**: A clever play on words, combining \"sole\" (the bottom of a foot) with \"soulmates,\" implying a connection between people and their favorite socks.\n",
      "5. **KaleidoKrew**: Inspired by the colorful, swirling patterns of kaleidoscopes, this name suggests a dynamic, creative team behind your company.\n",
      "6. **SockItToMe**: A cheeky reference to the classic phrase \"sock it to me,\" implying a playful, lighthearted approach to life and fashion.\n",
      "7. **FiberFrenzy**: This name highlights the colorful fibers used in your socks, with \"frenzy\" suggesting energy and excitement.\n",
      "8. **HeelToToe**: A clever reference to the entire length of a sock, from heel to toe, implying a comprehensive approach to creating fun, colorful footwear.\n",
      "\n",
      "I hope one of these names sparks inspiration for your company!\n"
     ]
    }
   ],
   "source": [
    "# response = llm.invoke(\"what would be a good company name for a company that makes colorful socks ?\")\n",
    "\n",
    "prompt = PromptTemplate.from_template(\"What is a good name for a company that makes {product} ?\")\n",
    "chain = prompt | llm\n",
    "response = chain.invoke({\"product\": \"colorful socks\"})\n",
    "\n",
    "print(type(response))\n",
    "print(response)"
   ]
  },
  {
   "cell_type": "markdown",
   "metadata": {},
   "source": [
    "### chat model: tuned specifically for having conversations"
   ]
  },
  {
   "cell_type": "code",
   "execution_count": 9,
   "metadata": {},
   "outputs": [],
   "source": [
    "chat_model = ChatOllama(model=\"llama3:8b\", temperature=0)"
   ]
  },
  {
   "cell_type": "code",
   "execution_count": 10,
   "metadata": {},
   "outputs": [
    {
     "name": "stdout",
     "output_type": "stream",
     "text": [
      "<class 'langchain_core.messages.ai.AIMessage'>\n",
      "content=\"What a fun question!\\n\\nHere are some ideas for a company name that might fit the bill:\\n\\n1. **SockItToMe**: A playful name that references the idea of putting your best foot forward (or in this case, your most colorful sock).\\n2. **HueHub**: A nod to the vibrant colors and hues you'd find in a pair of colorful socks.\\n3. **ToeTally Fun**: A whimsical name that captures the lighthearted spirit of wearing fun, colorful socks.\\n4. **SoleMates**: A clever play on words that references the idea of finding your perfect match (in this case, a pair of matching colorful socks).\\n5. **KaleidoKrew**: A name that references the kaleidoscope of colors and patterns you might find in a pair of colorful socks.\\n6. **SockSational**: A playful name that emphasizes the excitement and joy of wearing colorful socks.\\n7. **FiberFrenzy**: A name that highlights the creative, artistic aspect of designing and making colorful socks.\\n8. **HeelToToe**: A clever name that references the entire sock, from heel to toe (and all the colors in between).\\n9. **SockSavvy**: A name that positions your company as a go-to source for stylish, colorful socks.\\n10. **ColorCraze**: A fun name that captures the energy and enthusiasm of wearing bold, colorful socks.\\n\\nI hope one of these options sparks some inspiration for your company's name!\" response_metadata={'model': 'llama3:8b', 'created_at': '2024-05-17T08:42:12.028472617Z', 'message': {'role': 'assistant', 'content': ''}, 'done': True, 'total_duration': 17605854299, 'load_duration': 9866940327, 'prompt_eval_count': 26, 'prompt_eval_duration': 97010000, 'eval_count': 309, 'eval_duration': 7481782000} id='run-cc89831b-60e4-47c3-8ae6-be86dfb7f4e7-0'\n"
     ]
    }
   ],
   "source": [
    "messages = [\n",
    "    HumanMessage(content=\"what would be a good company name for a company that makes colorful socks ?\")\n",
    "    ]\n",
    "\n",
    "response = chat_model.invoke(input=messages)\n",
    "print(type(response))\n",
    "print(response)"
   ]
  },
  {
   "cell_type": "markdown",
   "metadata": {},
   "source": [
    "# prompt templates"
   ]
  },
  {
   "cell_type": "code",
   "execution_count": 11,
   "metadata": {},
   "outputs": [
    {
     "data": {
      "text/plain": [
       "'What is a good name for a company that makes colorful socks ?'"
      ]
     },
     "execution_count": 11,
     "metadata": {},
     "output_type": "execute_result"
    }
   ],
   "source": [
    "prompt = PromptTemplate.from_template(\"What is a good name for a company that makes {product} ?\")\n",
    "prompt.format(product= \"colorful socks\")"
   ]
  },
  {
   "cell_type": "code",
   "execution_count": 19,
   "metadata": {},
   "outputs": [
    {
     "name": "stdout",
     "output_type": "stream",
     "text": [
      "<class 'langchain_core.prompts.chat.ChatPromptTemplate'>\n"
     ]
    },
    {
     "data": {
      "text/plain": [
       "[SystemMessage(content='you are a helpful assistant that translates English to French.'),\n",
       " HumanMessage(content='I love programming.')]"
      ]
     },
     "execution_count": 19,
     "metadata": {},
     "output_type": "execute_result"
    }
   ],
   "source": [
    "chat_prompt = ChatPromptTemplate.from_messages([\n",
    "    (\"system\", \"you are a helpful assistant that translates {input_language} to {output_language}.\"),\n",
    "    (\"human\", \"{text}\")\n",
    "])\n",
    "\n",
    "\n",
    "print(type(chat_prompt))\n",
    "chat_prompt.format_messages(input_language=\"English\", output_language=\"French\", text=\"I love programming.\")"
   ]
  },
  {
   "cell_type": "markdown",
   "metadata": {},
   "source": [
    "# output parsers"
   ]
  },
  {
   "cell_type": "code",
   "execution_count": 24,
   "metadata": {},
   "outputs": [
    {
     "data": {
      "text/plain": [
       "['hi', 'bye']"
      ]
     },
     "execution_count": 24,
     "metadata": {},
     "output_type": "execute_result"
    }
   ],
   "source": [
    "output_parser = CommaSeparatedListOutputParser()\n",
    "output_parser.parse(\"hi, bye\")"
   ]
  },
  {
   "cell_type": "markdown",
   "metadata": {},
   "source": [
    "# composing with LCEL: lang chain expression language"
   ]
  },
  {
   "cell_type": "code",
   "execution_count": 31,
   "metadata": {},
   "outputs": [
    {
     "data": {
      "text/plain": [
       "['Here is the list of 5 colors:\\n\\nRed', 'Orange', 'Yellow', 'Green', 'Blue']"
      ]
     },
     "execution_count": 31,
     "metadata": {},
     "output_type": "execute_result"
    }
   ],
   "source": [
    "chat_model = ChatOllama(model=\"llama3:8b\", temperature=0)\n",
    "output_parser = CommaSeparatedListOutputParser()\n",
    "prompt = ChatPromptTemplate.from_template(\"Generate a list of 5 {text}.\\n\\n{format_instructions}\")\n",
    "# prompt = ChatPromptTemplate.from_messages([\n",
    "#     (\"system\", \"you are a helpful assistant.\"),\n",
    "#     (\"human\", \"Generate a list of 5 {text}. \\n\\n {format_instructions}\")\n",
    "\n",
    "# ])\n",
    "\n",
    "prompt = prompt.partial(format_instructions=output_parser.get_format_instructions())\n",
    "\n",
    "chain = prompt | chat_model | output_parser\n",
    "\n",
    "chain.invoke({\"text\": \"colors\"})"
   ]
  },
  {
   "cell_type": "markdown",
   "metadata": {},
   "source": [
    "# Prompts"
   ]
  },
  {
   "cell_type": "markdown",
   "metadata": {},
   "source": [
    "## Prompt Template\n",
    "-   used to create a template from a string prompt."
   ]
  },
  {
   "cell_type": "code",
   "execution_count": 14,
   "metadata": {},
   "outputs": [
    {
     "data": {
      "text/plain": [
       "'tell me a funny joke about chickens.'"
      ]
     },
     "execution_count": 14,
     "metadata": {},
     "output_type": "execute_result"
    }
   ],
   "source": [
    "prompt_template = PromptTemplate.from_template(\"tell me a {adjective} joke about {content}.\")\n",
    "prompt_template.format(adjective=\"funny\", content=\"chickens\")"
   ]
  },
  {
   "cell_type": "markdown",
   "metadata": {},
   "source": [
    "## Chat Prompt Template\n",
    "-   The prompt to chat models/ is a list of chat messages.\n",
    "-   Each chat message is associated with content, and an additional parameter called role.\n",
    "-   For example, in the OpenAI Chat Completions API, a chat message can be associated with an AI assistant, a human or a system role.\n",
    "-   The ChatPromptTemplate.from_messages static method accepts a variety of message representations and is a convenient way to format input to chat models with exactly the messages you want."
   ]
  },
  {
   "cell_type": "code",
   "execution_count": 17,
   "metadata": {},
   "outputs": [
    {
     "name": "stdout",
     "output_type": "stream",
     "text": [
      "type(messages): <class 'list'>\n"
     ]
    },
    {
     "data": {
      "text/plain": [
       "[SystemMessage(content='you are a helpful AI bot. Your name is Jarvis'),\n",
       " HumanMessage(content='Hello, how are you doing?.'),\n",
       " AIMessage(content=\"I'm doing well, thanks!\"),\n",
       " HumanMessage(content='what is your name?')]"
      ]
     },
     "execution_count": 17,
     "metadata": {},
     "output_type": "execute_result"
    }
   ],
   "source": [
    "chat_prompt_template = ChatPromptTemplate.from_messages(\n",
    "    [\n",
    "        (\"system\", \"you are a helpful AI bot. Your name is {name}\"),\n",
    "        (\"human\", \"Hello, how are you doing?.\"),\n",
    "        (\"ai\", \"I'm doing well, thanks!\"),\n",
    "        (\"human\", \"{user_input}\")\n",
    "    ]\n",
    ")\n",
    "\n",
    "messages = chat_prompt_template.format_messages(name=\"Jarvis\", user_input=\"what is your name?\")\n",
    "\n",
    "print(f\"type(messages): {type(messages)}\")\n",
    "\n",
    "messages"
   ]
  },
  {
   "cell_type": "code",
   "execution_count": null,
   "metadata": {},
   "outputs": [],
   "source": [
    "chat_prompt_template = ChatPromptTemplate.from_messages(\n",
    "    [\n",
    "        SystemMessage(content=\"You are a helpful assistant that re-writes the user's text to sound more upbeat\"),\n",
    "        HumanMessagePromptTemplate.from_template(\"{text}\")\n",
    "    ]\n",
    ")"
   ]
  },
  {
   "cell_type": "markdown",
   "metadata": {},
   "source": [
    "## Message Prompts\n",
    "- used where the chat model supports taking chat message with arbitrary role."
   ]
  },
  {
   "cell_type": "code",
   "execution_count": 51,
   "metadata": {},
   "outputs": [
    {
     "data": {
      "text/plain": [
       "ChatMessage(content='May the force be with you', role='Jedi')"
      ]
     },
     "execution_count": 51,
     "metadata": {},
     "output_type": "execute_result"
    }
   ],
   "source": [
    "chat_message_prompt_template = ChatMessagePromptTemplate.from_template(role=\"Jedi\", template=\"May the {subject} be with you\")\n",
    "chat_message_prompt_template.format(subject=\"force\")"
   ]
  },
  {
   "cell_type": "markdown",
   "metadata": {},
   "source": [
    "## Message Placeholder\n",
    "- gives full control of what messages to be rendered during formatting.\n",
    "- used when uncertain of what role should be used and wish to insert a list of messages during formatting.\n"
   ]
  },
  {
   "cell_type": "code",
   "execution_count": 61,
   "metadata": {},
   "outputs": [
    {
     "name": "stdout",
     "output_type": "stream",
     "text": [
      "<class 'list'>\n"
     ]
    },
    {
     "data": {
      "text/plain": [
       "[HumanMessage(content='What is the best way to learn programming?'),\n",
       " AIMessage(content='\\n1. Choose a programming language: Decide on a programming language that you want to learn.\\n\\n2. Start with the basics: Familiarize yourself with the basic programming concepts such as variables, data types and control structures.\\n\\n3. Practice, practice, practice: The best way to learn programming is through hands-on experience'),\n",
       " HumanMessage(content='Summarize our conversation so far in 10 words.')]"
      ]
     },
     "execution_count": 61,
     "metadata": {},
     "output_type": "execute_result"
    }
   ],
   "source": [
    "human_message_template = HumanMessagePromptTemplate.from_template(\"Summarize our conversation so far in {word_count} words.\")\n",
    "\n",
    "chat_prompt_template = ChatPromptTemplate.from_messages([\n",
    "    MessagesPlaceholder(variable_name=\"conversation\"), \n",
    "    human_message_template\n",
    "    ])\n",
    "\n",
    "human_message = HumanMessage(content=\"What is the best way to learn programming?\")\n",
    "ai_message = AIMessage(content=\"\"\"\n",
    "1. Choose a programming language: Decide on a programming language that you want to learn.\n",
    "\n",
    "2. Start with the basics: Familiarize yourself with the basic programming concepts such as variables, data types and control structures.\n",
    "\n",
    "3. Practice, practice, practice: The best way to learn programming is through hands-on experience\\\n",
    "\"\"\" \n",
    ")\n",
    "\n",
    "response = chat_prompt_template.format_prompt(\n",
    "    conversation=[human_message, ai_message],\n",
    "    word_count=\"10\"\n",
    ").to_messages()\n",
    "\n",
    "print(f\"{type(response)}\")\n",
    "response"
   ]
  },
  {
   "cell_type": "code",
   "execution_count": null,
   "metadata": {},
   "outputs": [],
   "source": []
  }
 ],
 "metadata": {
  "kernelspec": {
   "display_name": "env-langchain-llm",
   "language": "python",
   "name": "python3"
  },
  "language_info": {
   "codemirror_mode": {
    "name": "ipython",
    "version": 3
   },
   "file_extension": ".py",
   "mimetype": "text/x-python",
   "name": "python",
   "nbconvert_exporter": "python",
   "pygments_lexer": "ipython3",
   "version": "3.9.19"
  }
 },
 "nbformat": 4,
 "nbformat_minor": 2
}
