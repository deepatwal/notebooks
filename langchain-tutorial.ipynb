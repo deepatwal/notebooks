{
 "cells": [
  {
   "cell_type": "markdown",
   "metadata": {},
   "source": [
    "# imports"
   ]
  },
  {
   "cell_type": "code",
   "execution_count": 17,
   "metadata": {},
   "outputs": [],
   "source": [
    "from langchain_community.llms import Ollama\n",
    "from langchain_community.chat_models import ChatOllama\n",
    "from langchain_core.messages import HumanMessage\n",
    "from langchain_core.prompts import PromptTemplate\n",
    "from langchain_core.prompts.chat import ChatPromptTemplate"
   ]
  },
  {
   "cell_type": "markdown",
   "metadata": {},
   "source": [
    "# loading llm model: llama"
   ]
  },
  {
   "cell_type": "markdown",
   "metadata": {},
   "source": [
    "## llm"
   ]
  },
  {
   "cell_type": "code",
   "execution_count": 4,
   "metadata": {},
   "outputs": [],
   "source": [
    "llm = Ollama(model=\"llama3:8b\", temperature=0)"
   ]
  },
  {
   "cell_type": "code",
   "execution_count": 5,
   "metadata": {},
   "outputs": [
    {
     "name": "stdout",
     "output_type": "stream",
     "text": [
      "What a fun question!\n",
      "\n",
      "Here are some ideas for a company name that might fit the bill:\n",
      "\n",
      "1. **SockItToMe**: A playful name that references the idea of putting your best foot forward (or in this case, your most colorful sock).\n",
      "2. **HueHub**: A nod to the vibrant colors and hues you'd find in a pair of colorful socks.\n",
      "3. **ToeTally Fun**: A whimsical name that captures the lighthearted spirit of wearing fun, colorful socks.\n",
      "4. **SoleMates**: A clever play on words that references the idea of finding your perfect match (in this case, a pair of matching colorful socks).\n",
      "5. **KaleidoKrew**: A name that references the kaleidoscope of colors and patterns you might find in a pair of colorful socks.\n",
      "6. **SockSational**: A playful name that emphasizes the excitement and joy of wearing colorful socks.\n",
      "7. **FiberFrenzy**: A name that highlights the creative, artistic aspect of designing and making colorful socks.\n",
      "8. **HeelToToe**: A clever name that references the entire sock, from heel to toe (and all the colors in between).\n",
      "9. **SockSavvy**: A name that positions your company as a go-to source for stylish, colorful socks.\n",
      "10. **ColorCraze**: A fun name that captures the energy and enthusiasm of wearing bold, colorful socks.\n",
      "\n",
      "I hope one of these options sparks some inspiration for your company's name!\n"
     ]
    }
   ],
   "source": [
    "text = \"what would be a good company name for a company that makes colorful socks ?\"\n",
    "\n",
    "print(llm.invoke(text))"
   ]
  },
  {
   "cell_type": "markdown",
   "metadata": {},
   "source": [
    "## chat model"
   ]
  },
  {
   "cell_type": "code",
   "execution_count": 6,
   "metadata": {},
   "outputs": [],
   "source": [
    "chat_model = ChatOllama(model=\"llama3:8b\", temperature=0)"
   ]
  },
  {
   "cell_type": "code",
   "execution_count": 9,
   "metadata": {},
   "outputs": [],
   "source": [
    "text = \"what would be a good company name for a company that makes colorful socks ?\"\n",
    "messages = [HumanMessage(content=text)]\n",
    "\n",
    "response = chat_model.invoke(input=messages)"
   ]
  },
  {
   "cell_type": "code",
   "execution_count": 13,
   "metadata": {},
   "outputs": [
    {
     "name": "stdout",
     "output_type": "stream",
     "text": [
      "<class 'langchain_core.messages.ai.AIMessage'>\n"
     ]
    },
    {
     "data": {
      "text/plain": [
       "{'content': \"What a fun question!\\n\\nHere are some ideas for a company name that might fit the bill:\\n\\n1. **SockItToMe**: A playful name that references the idea of wearing your favorite socks to show them off.\\n2. **HueHub**: A nod to the colorful hues of your socks, with a fun and modern twist.\\n3. **ToeTally Colorful**: A whimsical name that captures the playful spirit of your products.\\n4. **SoleMates Socks**: A clever reference to the idea of finding your perfect match (in this case, a pair of colorful socks).\\n5. **Fiber & Fancy**: A name that highlights the quality and style of your socks, with a touch of whimsy.\\n6. **SockSational**: A fun, alliterative name that conveys the excitement and joy of wearing colorful socks.\\n7. **Kaleidoscope Krew**: A name that references the colorful, swirling patterns often found in your socks.\\n8. **StepUp Socks**: A motivational name that encourages people to step up their sock game with your vibrant, colorful designs.\\n9. **SockSavvy**: A clever name that positions your company as a go-to source for stylish, colorful socks.\\n10. **Rainbow Riot**: A playful name that captures the fun and energy of wearing colorful socks.\\n\\nI hope one of these options sparks some inspiration for your company's name!\",\n",
       " 'additional_kwargs': {},\n",
       " 'response_metadata': {'model': 'llama3:8b',\n",
       "  'created_at': '2024-05-04T07:57:37.884699089Z',\n",
       "  'message': {'role': 'assistant', 'content': ''},\n",
       "  'done': True,\n",
       "  'total_duration': 8084451695,\n",
       "  'load_duration': 1150228,\n",
       "  'prompt_eval_duration': 306390000,\n",
       "  'eval_count': 290,\n",
       "  'eval_duration': 7611735000},\n",
       " 'type': 'ai',\n",
       " 'name': None,\n",
       " 'id': 'run-c1080564-a8b9-4b48-b9e2-692d7b49579a-0',\n",
       " 'example': False,\n",
       " 'tool_calls': [],\n",
       " 'invalid_tool_calls': []}"
      ]
     },
     "execution_count": 13,
     "metadata": {},
     "output_type": "execute_result"
    }
   ],
   "source": [
    "print(type(response))\n",
    "response.dict()"
   ]
  },
  {
   "cell_type": "markdown",
   "metadata": {},
   "source": [
    "# prompt template"
   ]
  },
  {
   "cell_type": "code",
   "execution_count": 22,
   "metadata": {},
   "outputs": [
    {
     "data": {
      "text/plain": [
       "'What is a good name for a company that makes colorful socks ?'"
      ]
     },
     "execution_count": 22,
     "metadata": {},
     "output_type": "execute_result"
    }
   ],
   "source": [
    "prompt = PromptTemplate.from_template(\"What is a good name for a company that makes {product} ?\")\n",
    "prompt.format(product= \"colorful socks\")"
   ]
  },
  {
   "cell_type": "code",
   "execution_count": 23,
   "metadata": {},
   "outputs": [
    {
     "data": {
      "text/plain": [
       "[SystemMessage(content='you are a helpful assistant that translates English to French.'),\n",
       " HumanMessage(content='I love programming.')]"
      ]
     },
     "execution_count": 23,
     "metadata": {},
     "output_type": "execute_result"
    }
   ],
   "source": [
    "chat_prompt = ChatPromptTemplate.from_messages([\n",
    "    (\"system\", \"you are a helpful assistant that translates {input_language} to {output_language}.\"),\n",
    "    (\"human\", \"{text}\")\n",
    "])\n",
    "\n",
    "chat_prompt.format_messages(input_language=\"English\", output_language=\"French\", text=\"I love programming.\")"
   ]
  },
  {
   "cell_type": "code",
   "execution_count": null,
   "metadata": {},
   "outputs": [],
   "source": []
  }
 ],
 "metadata": {
  "kernelspec": {
   "display_name": "env-langchain-llm",
   "language": "python",
   "name": "python3"
  },
  "language_info": {
   "codemirror_mode": {
    "name": "ipython",
    "version": 3
   },
   "file_extension": ".py",
   "mimetype": "text/x-python",
   "name": "python",
   "nbconvert_exporter": "python",
   "pygments_lexer": "ipython3",
   "version": "3.9.19"
  }
 },
 "nbformat": 4,
 "nbformat_minor": 2
}
